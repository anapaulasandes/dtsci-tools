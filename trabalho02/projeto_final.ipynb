{
  "nbformat": 4,
  "nbformat_minor": 0,
  "metadata": {
    "colab": {
      "name": "projeto_final.ipynb",
      "provenance": [],
      "collapsed_sections": []
    },
    "kernelspec": {
      "name": "python3",
      "display_name": "Python 3"
    }
  },
  "cells": [
    {
      "cell_type": "markdown",
      "metadata": {
        "id": "UWbcY1pLYUOt",
        "colab_type": "text"
      },
      "source": [
        "# Projeto Final\n",
        "\n",
        "Ferramentas de software para uso em ciência de dados II - Professor Nasser Santiago Boan\n",
        "___\n",
        "\n",
        "1. Utilizando o dataset \"Pima Indians Diabetes Database\" crie um modelo para diagnosticar um paciente como diabético ou não. Discuta sobre a tarefa, o dataset, valores nulos, feature engineering, escolha do modelo, avaliação do modelo, importância das featires, métricas escolhidas (e porquê) e matriz de confusão.\n",
        "\n",
        "> link dataset 1 : https://www.kaggle.com/uciml/pima-indians-diabetes-database\n",
        "\n",
        "2. Utilizando o dataset \"Beer Consumption - São Paulo\" crie um modelo para prever a quantidade de cerveja que será consumida, para esse trabalho, desconsidere a variável independente 'data'. Discuta sobre a tarefa, o dataset, valores nulos, feature engineering, escolha do modelo, métrica de erro, complexidade vs erro, overfitting e underfitting.\n",
        "\n",
        "> link dataset 2 : https://www.kaggle.com/dongeorge/beer-consumption-sao-paulo\n",
        "\n",
        "3. Utilizando o dataset \"Cost of Living\" crie um modelo capaz de agrupar as cidades. Discuta sobre a tarefa, o dataset, sua análise, valores nulos, feature engineering, feature scaling, o modelo, sua customização, procura de parâmetros e interpretação do resultado.\n",
        "\n",
        "> link dataset 3 : https://www.kaggle.com/stephenofarrell/cost-of-living"
      ]
    },
    {
      "cell_type": "markdown",
      "metadata": {
        "id": "UMyR6eDykmjF",
        "colab_type": "text"
      },
      "source": [
        "# Dicas\n",
        "___\n",
        "\n",
        "1. Crie funções úteis e que irão te ajudar em cada um dos problemas.\n",
        "\n",
        "2. Desenvolva uma mapa com todas as atividades que você vai fazer, isso ajuda a te manter focado e no caminho.\n",
        "\n",
        "3. Analise o resultado, escreva, use células de texto como essa para manter suas anotações e interpretações.\n",
        "\n",
        "4. Não se preocupe em atingir resultados perfeitos, se preocupe em entender porque você teve os resultados que teve e como pode melhorá-los.\n"
      ]
    },
    {
      "cell_type": "markdown",
      "metadata": {
        "id": "Tw-hRUdOopiD",
        "colab_type": "text"
      },
      "source": [
        "# Entrega\n",
        "___\n",
        "\n",
        ">Data para entrega: 29/04\n",
        "\n",
        ">Email para entrega: nasserboan@gmail.com"
      ]
    },
    {
      "cell_type": "code",
      "metadata": {
        "id": "7v2Aq83Do4ZQ",
        "colab_type": "code",
        "colab": {}
      },
      "source": [
        ""
      ],
      "execution_count": 0,
      "outputs": []
    }
  ]
}