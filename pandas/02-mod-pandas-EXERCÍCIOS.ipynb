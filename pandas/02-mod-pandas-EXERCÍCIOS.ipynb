{
 "cells": [
  {
   "cell_type": "markdown",
   "metadata": {},
   "source": [
    "#  Exercícios\n",
    "___\n",
    "\n",
    "O exercícios abaixo deverá ser feito individualmente. Para solucionar os problemas apresentados serão necessários conhecimentos em python, pandas, numpy, para as questões bônus matplotlib e scikit-learn. Segue documentação de cada uma dessas bibliotecas:\n",
    "\n",
    "> python 3.8: https://docs.python.org/3/\n",
    "\n",
    "> numpy:https://numpy.org/\n",
    "\n",
    "> pandas: https://pandas.pydata.org/\n",
    "\n",
    "> matplotlib: https://matplotlib.org/index.html\n",
    "\n",
    "> scikit-learn: https://scikit-learn.org/stable/index.html\n",
    "\n",
    "O intuito deste exercícios é solidificar o conhecimento nas bibliotecas e ferramentas utilizadas para análise de dados com python. Além disso, demonstrar uma situação próxima a do dia-a-dia de um cientista de dados."
   ]
  },
  {
   "cell_type": "markdown",
   "metadata": {},
   "source": [
    "## Case\n",
    "___\n",
    "\n",
    "Você um cientista de dados e acabou de ser contratado pela OitavoAndar, uma startup do setor imobiliário focada em alugueis fáceis e rápidos para o cliente final. Em 2019 a OitavoAndar foi avaliada em mais de um bilhão de reais e hoje é um dos principais canais de aluguel de imóveis no país.\n",
    "\n",
    "Você, como cientista de dados, recebeu o desafio extrair insights para algumas áreas da empresa utilizando os dados disponíveis. Seu chefe te entregou um arquivo .csv descrevendo as seguintes features de imóveis para aluguel:\n",
    "\n",
    "- city : Cidade onde o imóvel está localizada / City where the property is located\n",
    "- area : Area do imovel / Property area\n",
    "- rooms : Numero de quartos/ Quantity of rooms\n",
    "- bathroom : Numero de banheiros / Quantity of bathroom\n",
    "- parking spaces : Numero de vagas / Quantity of parking spaces\n",
    "- floor : Andar / Floor\n",
    "- animal : Aceita animais? / Acept animals?\n",
    "- furniture : Mobilhada? / Furniture?\n",
    "- hoa : Valor do condominio / Homeowners association tax\n",
    "- rent amount : Valor do Aluguel / Rent amount\n",
    "- total : Valor total / Total\n",
    "- property tax : IPTU / Property tax\n",
    "- fire insurance : Seguro Incendio / Fire Insurance\n",
    "\n",
    "## Desafio\n",
    "___\n",
    "\n",
    "Seu chefe te mostra um board kanban com as seguintes demandas:\n",
    "\n",
    "![kanban board](oitavo.png)\n",
    "\n",
    "Cada uma das atividades na coluna ToDo deverão ser feitas em seções diferentes do mesmo jupyter notebook, cada uma deve conter uma célula markdown descrevendo os achados e conclusão. Recomenda-se também que seja criada uma seção específica para tratamento dos dados (imputação de valores nulos, adequação de tipos de dados, remoção de caracteres especiais). Seu chefe indicou que ao final você deverá fazer uma apresentação dos seus resultados a alta gestão da empresa. Lembre-se de usar gráficos,imagens e técnicas de storytelling com dados para criar sua apresentação.\n",
    "\n",
    "A atividade que envolve a criação de um modelo para predição do valor do aluguel é uma atividade bônus e não obrigatória."
   ]
  }
 ],
 "metadata": {
  "kernelspec": {
   "display_name": "Python [conda env:root] *",
   "language": "python",
   "name": "conda-root-py"
  },
  "language_info": {
   "codemirror_mode": {
    "name": "ipython",
    "version": 3
   },
   "file_extension": ".py",
   "mimetype": "text/x-python",
   "name": "python",
   "nbconvert_exporter": "python",
   "pygments_lexer": "ipython3",
   "version": "3.7.6"
  }
 },
 "nbformat": 4,
 "nbformat_minor": 4
}
