{
 "cells": [
  {
   "cell_type": "markdown",
   "metadata": {},
   "source": [
    "# Trabalho 1\n",
    "\n",
    "___"
   ]
  },
  {
   "cell_type": "markdown",
   "metadata": {},
   "source": [
    "O trabalho abaixo deverá ser feito individualmente e entregue até o dia 15/04/2020. A resolução dos exercícios deverá ser feita utilizando os conhecimentos passados em sala sobre python e seus pacotes. Esse trabalho equivale a 40% da nota final da matéria. No dia da entrega três pessoas serão escolhidas aleatoriamente para apresentar seus resultados. O trabalho pode ser feito tanto na máquina do aluno quanto no google colab."
   ]
  },
  {
   "cell_type": "markdown",
   "metadata": {},
   "source": [
    "# Dados\n",
    "\n",
    "___"
   ]
  },
  {
   "cell_type": "markdown",
   "metadata": {},
   "source": [
    "O dataset utilizado neste trabalho descreve o desempenho escolar dos alunos da Secretaria de Educação do Distrito Federal para o ano letivo de 2017. Ou seja, ele mostra as notas dos alunos em cada matéria e em cada bimestre de todas as escolas da rede pública do Distrito Federal.\n",
    "\n",
    "Esses dados são públicos e podem ser baixados utilizando esse [link](http://dados.df.gov.br/dataset/b8436049-44e7-4224-95b4-224718a4b166/resource/3e654a9d-0647-4e39-930e-7cd07faec888/download/dados-abertos---desempenho-escolar20180515160111.zip). Esse link faz o download de um arquivo .zip de aproximadamente 95 mega e dentro dele está o CSV que usaremos. A função 'get_data()' abaixo foi criada para auxiliar, ela faz o download automaticamente do arquivo (na pasta onde o jupyter notebook foi criado), descomprime o arquivo CSV e o usa para criar um dataframe pandas."
   ]
  },
  {
   "cell_type": "code",
   "execution_count": 1,
   "metadata": {},
   "outputs": [
    {
     "name": "stdout",
     "output_type": "stream",
     "text": [
      "--2020-03-25 13:33:33--  http://dados.df.gov.br/dataset/b8436049-44e7-4224-95b4-224718a4b166/resource/3e654a9d-0647-4e39-930e-7cd07faec888/download/dados-abertos---desempenho-escolar20180515160111.zip\n",
      "Resolving dados.df.gov.br (dados.df.gov.br)... 131.72.222.17\n",
      "Connecting to dados.df.gov.br (dados.df.gov.br)|131.72.222.17|:80... connected.\n",
      "HTTP request sent, awaiting response... 200 OK\n",
      "Length: 99777290 (95M) [application/zip]\n",
      "Saving to: ‘dados-abertos---desempenho-escolar20180515160111.zip’\n",
      "\n",
      "dados-abertos---des 100%[===================>]  95,15M  4,22MB/s    in 25s     \n",
      "\n",
      "2020-03-25 13:33:59 (3,80 MB/s) - ‘dados-abertos---desempenho-escolar20180515160111.zip’ saved [99777290/99777290]\n",
      "\n"
     ]
    }
   ],
   "source": [
    "import pandas as pd\n",
    "import zipfile\n",
    "import warnings\n",
    "\n",
    "warnings.filterwarnings('ignore')\n",
    "\n",
    "def get_data():\n",
    "    \n",
    "    '''\n",
    "    Essa função serve para fazer o download, descomprimir e criar o dataframe para execução do trabalho!\n",
    "    \n",
    "    *** RECOMENDO QUE ESSA FUNÇÃO SEJA UTILIZADA SÓ UMA VEZ ***\n",
    "    \n",
    "    Essa função já retorna um dataframe pandas, recomendo que você já o guarde em uma variável!\n",
    "    \n",
    "    Caso o seu computador estejá devegar, essa função também vai funcionar normalmente no google colab!\n",
    "    \n",
    "    '''\n",
    "    \n",
    "    !wget http://dados.df.gov.br/dataset/b8436049-44e7-4224-95b4-224718a4b166/resource/3e654a9d-0647-4e39-930e-7cd07faec888/download/dados-abertos---desempenho-escolar20180515160111.zip\n",
    "\n",
    "    with zipfile.ZipFile('dados-abertos---desempenho-escolar20180515160111.zip', 'r') as zip_ref:\n",
    "        zip_ref.extractall()\n",
    "\n",
    "    return pd.read_csv('dados abertos - desempenho escolar_20180515_160111.csv',sep=';',encoding='iso-8859-1')\n",
    "\n",
    "df = get_data()"
   ]
  },
  {
   "cell_type": "markdown",
   "metadata": {},
   "source": [
    "# Questões\n",
    "\n",
    "___"
   ]
  },
  {
   "cell_type": "markdown",
   "metadata": {},
   "source": [
    "1. Quantas linhas e colunas o dataset tem?\n",
    "2. Qual o nome das colunas?\n",
    "3. Qual turno de aula tem alunos com notas finais maiores? (Demonstre o seu resultado utilizando somente a nota final de cada matéria).\n",
    "4. Quantos alunos diferentes o dataset possui?\n",
    "5. Quantas escolas diferentes o dataset possui?\n",
    "6. Demonstre a distribuição de alunos por série.\n",
    "7. Demonstre a distribuição de escolas por coordenação regional.\n",
    "8. Qual é a matéria que os alunos do ensino médio ('1ª Série', '2ª Série','3ª Série') tiram, em média, a menor nota final?\n",
    "9. Qual é a coordenação regional com o maior número de notas máximas em matemática no último ano do ensino médio ('3ª Série')?\n",
    "10. Quantos valores nulos o dataset possui em cada coluna?\n",
    "11. Qual a distribuição de alunos por curso?\n",
    "12. Os alunos que estudam na primeira série do ensino médio em escolas sobre a responsabilidade da CRE - Plano Piloto tem uma nota final de português melhor do que os alunos de outras CRE para mesma faixa e matéria. Verdadeiro ou Falso? (Para essa questão considere somente duas grandes classes, ser ou não ser da CRE - Plano Piloto).\n",
    "13. Levando em consideração que para ser considerado aprovado o aluno deve tirar uma nota final maior do que 5, qual matéria do ensino médio reprova mais?\n",
    "14. Crie um dataframe onde:\n",
    "\n",
    "- Cada linha seja um aluno (sem repetições) e somente alunos do terceiro ano;\n",
    "- Cada coluna seja uma matéria da lista [matemática, português, física, química, biologia, história, geografia];\n",
    "- Cada valor da coluna será a nota final daquele aluno para aquela matéria.\n",
    "\n",
    "Exemplo: \n",
    "\n",
    "| aluno            | matemática | português | física | química | biologia | história | geografia |\n",
    "|------------------|------------|-----------|--------|---------|----------|----------|-----------|\n",
    "| 1254845612542512 | 9.8        | 5.5       | 6.7    | 5.5     | 8.8      | 7.3      | 3.2       |\n",
    "| 1548451247856985 | 0          | 3.8       | 3.2    | 1.2     | 2.1      | 8.5      | 6.5       |\n",
    "| 1477782552236587 | 5.5        | 6.5       | 7.5    | 9.5     | 10       | 10       | 10        |\n",
    "\n",
    "Nomeie esse novo dataframe de new_df e o utilize para resolver as questões abaixo.\n",
    "\n",
    "15. Existem valores nulos em new_df? Se sim, diga qual é a localização de cada valor nulo (index,column), trate os valores nulos da forma que achar mais adequada e descreva o porque tomou essa decisão.\n",
    "16. Descreva new_df (principais indicadores estatísticos)\n",
    "17. Qual a correlação entre as notas de cada matéria? É possível dizer que existe uma correlação forte entre química e física?\n",
    "18. Demonstre em um só gráfico as notas de química e língua portuguesa de todos os alunos.\n",
    "19. A distribuição de notas de história é simétrica? Comprove plotando um histograma das notas e também utilizando a função .skew().\n",
    "20. Plote e interprete um gráfico 'scatter' entre matemática e a média das notas das disciplinas [biologia, química e física]."
   ]
  },
  {
   "cell_type": "markdown",
   "metadata": {},
   "source": [
    "# Observação\n",
    "\n",
    "___\n",
    "\n",
    "Caso encontre alguma inconsistência no dataset, trate-o demonstrando e comentando essa inconsistência.\n",
    "\n",
    "> Para fins de resolução deste trabalho, todas as notas dos alunos devem estar entre 0 e 10. Notas acima desse dessa faixa correspondem a um modelo de pontuação que varia entre 0 e 100 e devem ser convertidos para a faixa padrão de nota. "
   ]
  }
 ],
 "metadata": {
  "kernelspec": {
   "display_name": "Python [conda env:root] *",
   "language": "python",
   "name": "conda-root-py"
  },
  "language_info": {
   "codemirror_mode": {
    "name": "ipython",
    "version": 3
   },
   "file_extension": ".py",
   "mimetype": "text/x-python",
   "name": "python",
   "nbconvert_exporter": "python",
   "pygments_lexer": "ipython3",
   "version": "3.7.6"
  }
 },
 "nbformat": 4,
 "nbformat_minor": 4
}
